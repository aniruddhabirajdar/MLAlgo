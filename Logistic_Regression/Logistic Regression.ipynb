{
 "cells": [
  {
   "cell_type": "markdown",
   "metadata": {},
   "source": [
    "## Logistic Regression"
   ]
  },
  {
   "cell_type": "code",
   "execution_count": 94,
   "metadata": {},
   "outputs": [
    {
     "data": {
      "text/html": [
       "<script>requirejs.config({paths: { 'plotly': ['https://cdn.plot.ly/plotly-latest.min']},});if(!window.Plotly) {{require(['plotly'],function(plotly) {window.Plotly=plotly;});}}</script>"
      ],
      "text/vnd.plotly.v1+html": [
       "<script>requirejs.config({paths: { 'plotly': ['https://cdn.plot.ly/plotly-latest.min']},});if(!window.Plotly) {{require(['plotly'],function(plotly) {window.Plotly=plotly;});}}</script>"
      ]
     },
     "metadata": {},
     "output_type": "display_data"
    }
   ],
   "source": [
    "import pandas as pd\n",
    "import random\n",
    "import plotly.offline as py\n",
    "from plotly.graph_objs import *\n",
    "import plotly.graph_objs as go\n",
    "from pylab import * \n",
    "import cufflinks as cf\n",
    "py.init_notebook_mode(connected=True)"
   ]
  },
  {
   "cell_type": "code",
   "execution_count": 95,
   "metadata": {},
   "outputs": [
    {
     "data": {
      "text/plain": [
       "(10, 3)"
      ]
     },
     "execution_count": 95,
     "metadata": {},
     "output_type": "execute_result"
    }
   ],
   "source": [
    "data=pd.read_csv('lr_.csv')\n",
    "data.shape"
   ]
  },
  {
   "cell_type": "code",
   "execution_count": 96,
   "metadata": {},
   "outputs": [
    {
     "data": {
      "text/html": [
       "<div>\n",
       "<style scoped>\n",
       "    .dataframe tbody tr th:only-of-type {\n",
       "        vertical-align: middle;\n",
       "    }\n",
       "\n",
       "    .dataframe tbody tr th {\n",
       "        vertical-align: top;\n",
       "    }\n",
       "\n",
       "    .dataframe thead th {\n",
       "        text-align: right;\n",
       "    }\n",
       "</style>\n",
       "<table border=\"1\" class=\"dataframe\">\n",
       "  <thead>\n",
       "    <tr style=\"text-align: right;\">\n",
       "      <th></th>\n",
       "      <th>X1</th>\n",
       "      <th>X2</th>\n",
       "      <th>Y</th>\n",
       "    </tr>\n",
       "  </thead>\n",
       "  <tbody>\n",
       "    <tr>\n",
       "      <th>0</th>\n",
       "      <td>2.781084</td>\n",
       "      <td>2.550537</td>\n",
       "      <td>0</td>\n",
       "    </tr>\n",
       "    <tr>\n",
       "      <th>1</th>\n",
       "      <td>1.465489</td>\n",
       "      <td>2.362125</td>\n",
       "      <td>0</td>\n",
       "    </tr>\n",
       "    <tr>\n",
       "      <th>2</th>\n",
       "      <td>3.396562</td>\n",
       "      <td>4.400294</td>\n",
       "      <td>0</td>\n",
       "    </tr>\n",
       "    <tr>\n",
       "      <th>3</th>\n",
       "      <td>1.388070</td>\n",
       "      <td>1.850220</td>\n",
       "      <td>0</td>\n",
       "    </tr>\n",
       "    <tr>\n",
       "      <th>4</th>\n",
       "      <td>3.064072</td>\n",
       "      <td>3.005306</td>\n",
       "      <td>0</td>\n",
       "    </tr>\n",
       "    <tr>\n",
       "      <th>5</th>\n",
       "      <td>7.627531</td>\n",
       "      <td>2.759262</td>\n",
       "      <td>1</td>\n",
       "    </tr>\n",
       "    <tr>\n",
       "      <th>6</th>\n",
       "      <td>5.332441</td>\n",
       "      <td>2.088627</td>\n",
       "      <td>1</td>\n",
       "    </tr>\n",
       "    <tr>\n",
       "      <th>7</th>\n",
       "      <td>6.922597</td>\n",
       "      <td>1.771064</td>\n",
       "      <td>1</td>\n",
       "    </tr>\n",
       "    <tr>\n",
       "      <th>8</th>\n",
       "      <td>8.675419</td>\n",
       "      <td>-0.242069</td>\n",
       "      <td>1</td>\n",
       "    </tr>\n",
       "    <tr>\n",
       "      <th>9</th>\n",
       "      <td>7.673756</td>\n",
       "      <td>3.508563</td>\n",
       "      <td>1</td>\n",
       "    </tr>\n",
       "  </tbody>\n",
       "</table>\n",
       "</div>"
      ],
      "text/plain": [
       "         X1        X2  Y\n",
       "0  2.781084  2.550537  0\n",
       "1  1.465489  2.362125  0\n",
       "2  3.396562  4.400294  0\n",
       "3  1.388070  1.850220  0\n",
       "4  3.064072  3.005306  0\n",
       "5  7.627531  2.759262  1\n",
       "6  5.332441  2.088627  1\n",
       "7  6.922597  1.771064  1\n",
       "8  8.675419 -0.242069  1\n",
       "9  7.673756  3.508563  1"
      ]
     },
     "execution_count": 96,
     "metadata": {},
     "output_type": "execute_result"
    }
   ],
   "source": [
    "data"
   ]
  },
  {
   "cell_type": "code",
   "execution_count": 103,
   "metadata": {},
   "outputs": [],
   "source": [
    "alpha = 0.3 \n",
    "B0 = 0.0\n",
    "B1 = 0.0 \n",
    "B2 = 0.0\n",
    "for x in range(1,21):\n",
    "    for index,row in data.iterrows():\n",
    "        prediction = 1 / ( 1 + math.exp( -(B0 + B1 * row['X1'] + B2 * row['X2'] ) ) )\n",
    "        B0 = B0 + alpha * (row['Y'] - prediction) * prediction * (1 - prediction) * 1.0\n",
    "        B1 = B1 + alpha * (row['Y'] - prediction) * prediction * (1 - prediction) * row['X1']\n",
    "        B2 = B2 + alpha * (row['Y'] - prediction) * prediction * (1 - prediction) * row['X2']"
   ]
  },
  {
   "cell_type": "code",
   "execution_count": 104,
   "metadata": {},
   "outputs": [],
   "source": [
    "data['Prediction'] = 0.0\n",
    "for index,row in data.iterrows():\n",
    "    prediction = 1 / ( 1 + math.exp( -(B0 + B1 * row['X1'] + B2 * row['X2'] ) ) )\n",
    "    data.at[index,'Prediction'] = prediction"
   ]
  },
  {
   "cell_type": "code",
   "execution_count": 105,
   "metadata": {},
   "outputs": [],
   "source": [
    "data.loc[data['Prediction'] < 0.5 , 'Crisp'] = 0\n",
    "data.loc[data['Prediction'] > 0.5 , 'Crisp'] = 1"
   ]
  },
  {
   "cell_type": "code",
   "execution_count": 106,
   "metadata": {},
   "outputs": [
    {
     "data": {
      "text/html": [
       "<div>\n",
       "<style scoped>\n",
       "    .dataframe tbody tr th:only-of-type {\n",
       "        vertical-align: middle;\n",
       "    }\n",
       "\n",
       "    .dataframe tbody tr th {\n",
       "        vertical-align: top;\n",
       "    }\n",
       "\n",
       "    .dataframe thead th {\n",
       "        text-align: right;\n",
       "    }\n",
       "</style>\n",
       "<table border=\"1\" class=\"dataframe\">\n",
       "  <thead>\n",
       "    <tr style=\"text-align: right;\">\n",
       "      <th></th>\n",
       "      <th>X1</th>\n",
       "      <th>X2</th>\n",
       "      <th>Y</th>\n",
       "      <th>Prediction</th>\n",
       "      <th>Crisp</th>\n",
       "    </tr>\n",
       "  </thead>\n",
       "  <tbody>\n",
       "    <tr>\n",
       "      <th>0</th>\n",
       "      <td>2.781084</td>\n",
       "      <td>2.550537</td>\n",
       "      <td>0</td>\n",
       "      <td>0.205162</td>\n",
       "      <td>0.0</td>\n",
       "    </tr>\n",
       "    <tr>\n",
       "      <th>1</th>\n",
       "      <td>1.465489</td>\n",
       "      <td>2.362125</td>\n",
       "      <td>0</td>\n",
       "      <td>0.078914</td>\n",
       "      <td>0.0</td>\n",
       "    </tr>\n",
       "    <tr>\n",
       "      <th>2</th>\n",
       "      <td>3.396562</td>\n",
       "      <td>4.400294</td>\n",
       "      <td>0</td>\n",
       "      <td>0.032096</td>\n",
       "      <td>0.0</td>\n",
       "    </tr>\n",
       "    <tr>\n",
       "      <th>3</th>\n",
       "      <td>1.388070</td>\n",
       "      <td>1.850220</td>\n",
       "      <td>0</td>\n",
       "      <td>0.142825</td>\n",
       "      <td>0.0</td>\n",
       "    </tr>\n",
       "    <tr>\n",
       "      <th>4</th>\n",
       "      <td>3.064072</td>\n",
       "      <td>3.005306</td>\n",
       "      <td>0</td>\n",
       "      <td>0.151745</td>\n",
       "      <td>0.0</td>\n",
       "    </tr>\n",
       "    <tr>\n",
       "      <th>5</th>\n",
       "      <td>7.627531</td>\n",
       "      <td>2.759262</td>\n",
       "      <td>1</td>\n",
       "      <td>0.968200</td>\n",
       "      <td>1.0</td>\n",
       "    </tr>\n",
       "    <tr>\n",
       "      <th>6</th>\n",
       "      <td>5.332441</td>\n",
       "      <td>2.088627</td>\n",
       "      <td>1</td>\n",
       "      <td>0.879794</td>\n",
       "      <td>1.0</td>\n",
       "    </tr>\n",
       "    <tr>\n",
       "      <th>7</th>\n",
       "      <td>6.922597</td>\n",
       "      <td>1.771064</td>\n",
       "      <td>1</td>\n",
       "      <td>0.983990</td>\n",
       "      <td>1.0</td>\n",
       "    </tr>\n",
       "    <tr>\n",
       "      <th>8</th>\n",
       "      <td>8.675419</td>\n",
       "      <td>-0.242069</td>\n",
       "      <td>1</td>\n",
       "      <td>0.999862</td>\n",
       "      <td>1.0</td>\n",
       "    </tr>\n",
       "    <tr>\n",
       "      <th>9</th>\n",
       "      <td>7.673756</td>\n",
       "      <td>3.508563</td>\n",
       "      <td>1</td>\n",
       "      <td>0.914672</td>\n",
       "      <td>1.0</td>\n",
       "    </tr>\n",
       "  </tbody>\n",
       "</table>\n",
       "</div>"
      ],
      "text/plain": [
       "         X1        X2  Y  Prediction  Crisp\n",
       "0  2.781084  2.550537  0    0.205162    0.0\n",
       "1  1.465489  2.362125  0    0.078914    0.0\n",
       "2  3.396562  4.400294  0    0.032096    0.0\n",
       "3  1.388070  1.850220  0    0.142825    0.0\n",
       "4  3.064072  3.005306  0    0.151745    0.0\n",
       "5  7.627531  2.759262  1    0.968200    1.0\n",
       "6  5.332441  2.088627  1    0.879794    1.0\n",
       "7  6.922597  1.771064  1    0.983990    1.0\n",
       "8  8.675419 -0.242069  1    0.999862    1.0\n",
       "9  7.673756  3.508563  1    0.914672    1.0"
      ]
     },
     "execution_count": 106,
     "metadata": {},
     "output_type": "execute_result"
    }
   ],
   "source": [
    "data"
   ]
  },
  {
   "cell_type": "code",
   "execution_count": 107,
   "metadata": {},
   "outputs": [],
   "source": [
    "CorrectPredictions = data.loc[data['Crisp'] == data['Y'] ].shape[0]\n",
    "TotalPredictions = data.shape[0]"
   ]
  },
  {
   "cell_type": "code",
   "execution_count": 108,
   "metadata": {},
   "outputs": [
    {
     "data": {
      "text/plain": [
       "100.0"
      ]
     },
     "execution_count": 108,
     "metadata": {},
     "output_type": "execute_result"
    }
   ],
   "source": [
    "accuracy = CorrectPredictions/TotalPredictions * 100\n",
    "accuracy"
   ]
  },
  {
   "cell_type": "code",
   "execution_count": null,
   "metadata": {},
   "outputs": [],
   "source": []
  }
 ],
 "metadata": {
  "kernelspec": {
   "display_name": "Python 3",
   "language": "python",
   "name": "python3"
  },
  "language_info": {
   "codemirror_mode": {
    "name": "ipython",
    "version": 3
   },
   "file_extension": ".py",
   "mimetype": "text/x-python",
   "name": "python",
   "nbconvert_exporter": "python",
   "pygments_lexer": "ipython3",
   "version": "3.6.4"
  }
 },
 "nbformat": 4,
 "nbformat_minor": 2
}
